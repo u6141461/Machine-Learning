{
 "cells": [
  {
   "cell_type": "markdown",
   "metadata": {},
   "source": [
    "# 重抽样方法 Bootstrap\n"
   ]
  },
  {
   "cell_type": "markdown",
   "metadata": {},
   "source": [
    "例子一：估计X的总体均值与总体方差"
   ]
  },
  {
   "cell_type": "code",
   "execution_count": 75,
   "metadata": {},
   "outputs": [
    {
     "data": {
      "text/html": [
       "<div>\n",
       "<style scoped>\n",
       "    .dataframe tbody tr th:only-of-type {\n",
       "        vertical-align: middle;\n",
       "    }\n",
       "\n",
       "    .dataframe tbody tr th {\n",
       "        vertical-align: top;\n",
       "    }\n",
       "\n",
       "    .dataframe thead th {\n",
       "        text-align: right;\n",
       "    }\n",
       "</style>\n",
       "<table border=\"1\" class=\"dataframe\">\n",
       "  <thead>\n",
       "    <tr style=\"text-align: right;\">\n",
       "      <th></th>\n",
       "      <th>Unnamed: 0</th>\n",
       "      <th>X</th>\n",
       "      <th>Y</th>\n",
       "    </tr>\n",
       "  </thead>\n",
       "  <tbody>\n",
       "    <tr>\n",
       "      <th>0</th>\n",
       "      <td>1</td>\n",
       "      <td>-0.895251</td>\n",
       "      <td>-0.234924</td>\n",
       "    </tr>\n",
       "    <tr>\n",
       "      <th>1</th>\n",
       "      <td>2</td>\n",
       "      <td>-1.562454</td>\n",
       "      <td>-0.885176</td>\n",
       "    </tr>\n",
       "    <tr>\n",
       "      <th>2</th>\n",
       "      <td>3</td>\n",
       "      <td>-0.417090</td>\n",
       "      <td>0.271888</td>\n",
       "    </tr>\n",
       "  </tbody>\n",
       "</table>\n",
       "</div>"
      ],
      "text/plain": [
       "   Unnamed: 0         X         Y\n",
       "0           1 -0.895251 -0.234924\n",
       "1           2 -1.562454 -0.885176\n",
       "2           3 -0.417090  0.271888"
      ]
     },
     "execution_count": 75,
     "metadata": {},
     "output_type": "execute_result"
    }
   ],
   "source": [
    "import numpy as np\n",
    "import pandas as pd\n",
    "import matplotlib.pyplot as plt\n",
    "df = pd.read_csv('Bootstrap.csv')\n",
    "df.head(3)\n"
   ]
  },
  {
   "cell_type": "code",
   "execution_count": 76,
   "metadata": {},
   "outputs": [
    {
     "name": "stdout",
     "output_type": "stream",
     "text": [
      "population mean is  -0.0771321082109919\n",
      "population variance is  0.011173559345375695\n"
     ]
    }
   ],
   "source": [
    "#普通统计方法估计总体均值和方差\n",
    "sample_mean = np.mean(df.X)\n",
    "print(\"population mean is \",sample_mean )\n",
    "sample_variance = np.var(df.X)\n",
    "print(\"population variance is \",sample_variance/len(df.X ))"
   ]
  },
  {
   "cell_type": "code",
   "execution_count": 77,
   "metadata": {},
   "outputs": [
    {
     "data": {
      "text/plain": [
       "0.07649145321069327"
      ]
     },
     "execution_count": 77,
     "metadata": {},
     "output_type": "execute_result"
    }
   ],
   "source": [
    "#Bootstrap估计总体均值和方差\n",
    "from random import choices\n",
    "index = np.random.choice(range(100),100)\n",
    "np.mean(df.X[index])"
   ]
  },
  {
   "cell_type": "code",
   "execution_count": 78,
   "metadata": {},
   "outputs": [
    {
     "name": "stdout",
     "output_type": "stream",
     "text": [
      "population mean is  -0.07768850055261536\n",
      "population variance is  0.011283540923698236\n"
     ]
    },
    {
     "data": {
      "image/png": "[encoded data removed]",
      "text/plain": [
       "<Figure size 432x288 with 1 Axes>"
      ]
     },
     "metadata": {},
     "output_type": "display_data"
    }
   ],
   "source": [
    "sample_mean_list = []\n",
    "for i in range(1000):\n",
    "    index = np.random.choice(range(100),100)\n",
    "    sample_mean_list.append(np.mean(df.X[index]))\n",
    "    \n",
    "print(\"population mean is \",np.mean(sample_mean_list ))\n",
    "population_variance = np.var(sample_mean_list)\n",
    "print(\"population variance is \",population_variance)\n",
    "\n",
    "plt.hist(sample_mean_list)\n",
    "plt.show()"
   ]
  },
  {
   "cell_type": "markdown",
   "metadata": {},
   "source": [
    "例子二：choose α to minimize the total risk, or variance, of our investment. In other words, we want to minimize Var(αX + (1 − α)Y )"
   ]
  },
  {
   "cell_type": "code",
   "execution_count": 84,
   "metadata": {},
   "outputs": [],
   "source": [
    "def alpha_hat(data):\n",
    "    x = data.X\n",
    "    y = data.Y\n",
    "    covariance = np.cov(x,x)[0][1]\n",
    "    var_x =np.var(x)\n",
    "    var_y =np.var(y)\n",
    "    return (var_x-covariance)/(var_y+var_x-2*covariance)"
   ]
  },
  {
   "cell_type": "code",
   "execution_count": 101,
   "metadata": {},
   "outputs": [
    {
     "name": "stdout",
     "output_type": "stream",
     "text": [
      "The optimal alpha is：  0.022602755724353343\n",
      "The variance of alpha is  0.16464572932920526\n"
     ]
    },
    {
     "data": {
      "text/plain": [
       "(array([ 1.,  9., 86.,  2.,  0.,  0.,  1.,  0.,  0.,  1.]),\n",
       " array([-0.98403512, -0.55258865, -0.12114218,  0.31030429,  0.74175076,\n",
       "         1.17319723,  1.6046437 ,  2.03609017,  2.46753664,  2.89898311,\n",
       "         3.33042958]),\n",
       " <a list of 10 Patch objects>)"
      ]
     },
     "execution_count": 101,
     "metadata": {},
     "output_type": "execute_result"
    },
    {
     "data": {
      "image/png": "[encoded data removed]",
      "text/plain": [
       "<Figure size 432x288 with 1 Axes>"
      ]
     },
     "metadata": {},
     "output_type": "display_data"
    }
   ],
   "source": [
    "sample_mean_list = []\n",
    "for i in range(100):\n",
    "    index = np.random.choice(range(100),100)\n",
    "    sample_mean_list.append(alpha_hat(df.iloc[index,:]))\n",
    "\n",
    "print(\"The optimal alpha is： \",np.mean(sample_mean_list))\n",
    "print(\"The variance of alpha is \",np.var(sample_mean_list))\n",
    "plt.hist(sample_mean_list)\n",
    "\n"
   ]
  }
 ],
 "metadata": {
  "kernelspec": {
   "display_name": "Python 3",
   "language": "python",
   "name": "python3"
  },
  "language_info": {
   "codemirror_mode": {
    "name": "ipython",
    "version": 3
   },
   "file_extension": ".py",
   "mimetype": "text/x-python",
   "name": "python",
   "nbconvert_exporter": "python",
   "pygments_lexer": "ipython3",
   "version": "3.6.8"
  }
 },
 "nbformat": 4,
 "nbformat_minor": 2
}
